{
 "cells": [
  {
   "cell_type": "code",
   "execution_count": 7,
   "id": "8daf5e73",
   "metadata": {},
   "outputs": [],
   "source": [
    "import names\n",
    "def generate_teams():\n",
    "    with open('teams.txt', 'w') as f:\n",
    "        for i in range(20):\n",
    "            f.write(f'{names.get_first_name()} and {names.get_first_name()}\\n')"
   ]
  },
  {
   "cell_type": "code",
   "execution_count": 10,
   "id": "0a625bc3",
   "metadata": {},
   "outputs": [],
   "source": [
    "def generate_timeslots():\n",
    "    with open('timeslots.txt', 'w') as f:\n",
    "        for i in range(50):\n",
    "            for j in range(5):\n",
    "                f.write(f'Day {i+1}, Lunch Slot {j + 1}\\n')\n",
    "            for j in range(3):\n",
    "                f.write(f'Day {i+1}, After-School Slot {j + 1}\\n')"
   ]
  },
  {
   "cell_type": "code",
   "execution_count": 11,
   "id": "4b52fdcb",
   "metadata": {},
   "outputs": [],
   "source": [
    "generate_teams()\n",
    "generate_timeslots()"
   ]
  },
  {
   "cell_type": "code",
   "execution_count": 12,
   "id": "e5be1e6f",
   "metadata": {},
   "outputs": [
    {
     "data": {
      "text/html": [
       "<pre style=\"white-space:pre;overflow-x:auto;line-height:normal;font-family:Menlo,'DejaVu Sans Mono',consolas,'Courier New',monospace\"><span style=\"color: #008000; text-decoration-color: #008000\">'Reading teams, be patient...'</span>\n",
       "</pre>\n"
      ],
      "text/plain": [
       "\u001b[32m'Reading teams, be patient...'\u001b[0m\n"
      ]
     },
     "metadata": {},
     "output_type": "display_data"
    },
    {
     "data": {
      "text/html": [
       "<pre style=\"white-space:pre;overflow-x:auto;line-height:normal;font-family:Menlo,'DejaVu Sans Mono',consolas,'Courier New',monospace\"><span style=\"color: #008000; text-decoration-color: #008000\">'Reading timeslots, be patient...'</span>\n",
       "</pre>\n"
      ],
      "text/plain": [
       "\u001b[32m'Reading timeslots, be patient...'\u001b[0m\n"
      ]
     },
     "metadata": {},
     "output_type": "display_data"
    },
    {
     "data": {
      "text/html": [
       "<pre style=\"white-space:pre;overflow-x:auto;line-height:normal;font-family:Menlo,'DejaVu Sans Mono',consolas,'Courier New',monospace\"></pre>\n"
      ],
      "text/plain": []
     },
     "metadata": {},
     "output_type": "display_data"
    },
    {
     "name": "stdout",
     "output_type": "stream",
     "text": [
      "Number of teams in each group? (5): \n"
     ]
    },
    {
     "name": "stderr",
     "output_type": "stream",
     "text": [
      "100%|█████████████████████████████████████████████████████████████████████████████████| 40/40 [00:00<00:00, 43873.47it/s]\n"
     ]
    },
    {
     "data": {
      "text/html": [
       "<pre style=\"white-space:pre;overflow-x:auto;line-height:normal;font-family:Menlo,'DejaVu Sans Mono',consolas,'Courier New',monospace\"><span style=\"color: #008000; text-decoration-color: #008000\">'Writing schedule to schedule.txt'</span>\n",
       "</pre>\n"
      ],
      "text/plain": [
       "\u001b[32m'Writing schedule to schedule.txt'\u001b[0m\n"
      ]
     },
     "metadata": {},
     "output_type": "display_data"
    },
    {
     "data": {
      "text/html": [
       "<pre style=\"white-space:pre;overflow-x:auto;line-height:normal;font-family:Menlo,'DejaVu Sans Mono',consolas,'Courier New',monospace\"><span style=\"color: #008000; text-decoration-color: #008000\">'Done in 2.5407869815826416 seconds.'</span>\n",
       "</pre>\n"
      ],
      "text/plain": [
       "\u001b[32m'Done in 2.5407869815826416 seconds.'\u001b[0m\n"
      ]
     },
     "metadata": {},
     "output_type": "display_data"
    }
   ],
   "source": [
    "import names\n",
    "import random\n",
    "import numpy as np\n",
    "import time\n",
    "from tqdm import tqdm\n",
    "from rich.prompt import Prompt\n",
    "from rich.pretty import pprint\n",
    "import warnings\n",
    "import sys\n",
    "warnings.filterwarnings(\"ignore\")\n",
    "\n",
    "\n",
    "\n",
    "def recursive_scheduler(games, schedule, bar):\n",
    "    #print(f\"recursive_scheduler called with \\ngames: {games} \\nschedule: {schedule}\")\n",
    "#==#==#===\n",
    "# def recursive_scheduler(games, schedule):\n",
    "#     pprint(schedule)\n",
    "\n",
    "    games_scheduled = len(schedule)\n",
    "    # base case\n",
    "    if len(games) == games_scheduled:\n",
    "        return schedule\n",
    "    else:\n",
    "        i = 0\n",
    "        while i < len(games[games_scheduled][2]):\n",
    "            if games[games_scheduled][2][i] and i not in schedule.values():\n",
    "                break\n",
    "            i += 1\n",
    "\n",
    "\n",
    "        # no remaining options, then set previous game schedule to false and try again\n",
    "        if i == sum(games[games_scheduled][2]):\n",
    "            games[games_scheduled - 1][2][schedule[games_scheduled-1]] = False\n",
    "            schedule.pop(games_scheduled - 1)\n",
    "            return recursive_scheduler(games, schedule, bar)\n",
    "\n",
    "        schedule[games_scheduled] = i\n",
    "        bar.update()\n",
    "        return recursive_scheduler(games, schedule, bar)\n",
    "        \n",
    "        \n",
    "\n",
    "\n",
    "def schedule_helper(zipped, groups, time_dict):\n",
    "\n",
    "    games = []\n",
    "\n",
    "    schedule = {}\n",
    "\n",
    "    for group in groups:\n",
    "        i = 0\n",
    "        while i < len(group):\n",
    "            j = i + 1\n",
    "            while j < len(group):\n",
    "                games.append([group[i][0], group[j][0], group[i][1] and group[j][1]])\n",
    "                j += 1\n",
    "            i += 1\n",
    "\n",
    "    random.shuffle(games)\n",
    "\n",
    "    bar = tqdm(total=len(games))\n",
    "    recursive_scheduler(games, schedule, bar)\n",
    "\n",
    "    text_schedule = {}\n",
    "    \n",
    "    for i in schedule:\n",
    "        text_schedule[games[i][0] + \" vs. \" + games[i][1]] = time_dict[schedule[i]]\n",
    "    \n",
    "    return text_schedule\n",
    "    \n",
    "    \n",
    "\n",
    "def schedulify(zipped, timeslots, teams_per_group):\n",
    "\n",
    "    num_teams = len(zipped)\n",
    "    num_timeslots = len(timeslots)\n",
    "\n",
    "    time_dict = dict(zip(range(num_timeslots), timeslots))\n",
    "\n",
    "    if num_teams % teams_per_group != 0:\n",
    "        raise Exception(\"Number of teams should be divisible by the number of teams per group\")\n",
    "\n",
    "    if (teams_per_group - 1) * num_teams / 2 > num_timeslots:\n",
    "        raise Exception(\"Not enough timeslots for a round-robin\")\n",
    "    \n",
    "    groups = np.reshape(zipped, (int(num_teams/teams_per_group), int(teams_per_group), 2))\n",
    "    \n",
    "\n",
    "    # what do we have now:\n",
    "    # groups: a num_groups by teams_per_group by 2 array listing each team in its group along with which timeslots it can handle\n",
    "    # time_dict: a dictionary that connects the index of a timeslot to the datetime\n",
    "    \n",
    "    return schedule_helper(zipped, groups, time_dict)\n",
    "    \n",
    "if __name__ == '__main__':\n",
    "    # raise(Exception(\"Do the images for recursion and compile them into a video!!!!\"))\n",
    "    start_time = time.time()\n",
    "    pprint(\"Reading teams, be patient...\")\n",
    "    with open('teams.txt', 'r') as f:\n",
    "        teams = f.readlines()\n",
    "    num_teams = len(teams)\n",
    "\n",
    "    i = 0\n",
    "    while i < len(teams):\n",
    "        teams[i] = teams[i][:-1]\n",
    "        i += 1\n",
    "\n",
    "\n",
    "    #pprint((num_teams, teams))\n",
    "#==#==#===\n",
    "\n",
    "    pprint(\"Reading timeslots, be patient...\")\n",
    "    with open('timeslots.txt', 'r') as f:\n",
    "        timeslots = f.readlines()\n",
    "    i = 0\n",
    "    while i < len(timeslots):\n",
    "        timeslots[i] = timeslots[i][:-1]\n",
    "        i += 1\n",
    "        \n",
    "\n",
    "    #pprint(timeslots)\n",
    "#==#==#===\n",
    "\n",
    "\n",
    "    \n",
    "    num_timeslots = len(timeslots)\n",
    "    time_compatibilities = np.zeros((num_teams, num_timeslots), dtype=bool)\n",
    "\n",
    "    i = 0\n",
    "    while i < num_teams:\n",
    "        j = 0\n",
    "        while j < num_timeslots:\n",
    "            if np.random.random() < 0.6:\n",
    "                time_compatibilities[i][j] = True\n",
    "            j += 1\n",
    "        i += 1\n",
    "\n",
    "    time_compatibilities = time_compatibilities.tolist()\n",
    "    user_input = int(Prompt.ask(\"Number of teams in each group?\", default=\"5\")) if len(sys.argv) != 2 else int(sys.argv[1])\n",
    "    assert(user_input > 0)\n",
    "    text_schedule = schedulify(list(zip(teams, time_compatibilities)), timeslots, user_input)\n",
    "    \n",
    "    final_file = 'schedule.txt'\n",
    "    pprint(f'Writing schedule to {final_file}')\n",
    "    with open(final_file, 'w+') as f:\n",
    "        for i in text_schedule:\n",
    "            f.write(f'{i}, {text_schedule[i]}\\n') \n",
    "    pprint(\"Done in %s seconds.\" % (time.time() - start_time))\n"
   ]
  },
  {
   "cell_type": "code",
   "execution_count": null,
   "id": "d2566fd6",
   "metadata": {},
   "outputs": [],
   "source": []
  }
 ],
 "metadata": {
  "kernelspec": {
   "display_name": "Python 3 (ipykernel)",
   "language": "python",
   "name": "python3"
  },
  "language_info": {
   "codemirror_mode": {
    "name": "ipython",
    "version": 3
   },
   "file_extension": ".py",
   "mimetype": "text/x-python",
   "name": "python",
   "nbconvert_exporter": "python",
   "pygments_lexer": "ipython3",
   "version": "3.9.10"
  }
 },
 "nbformat": 4,
 "nbformat_minor": 5
}
